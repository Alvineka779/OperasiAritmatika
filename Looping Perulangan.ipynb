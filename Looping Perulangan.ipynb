{
  "nbformat": 4,
  "nbformat_minor": 0,
  "metadata": {
    "colab": {
      "provenance": [],
      "authorship_tag": "ABX9TyMO3+ZsLZaMcFjQGwAjbBMw",
      "include_colab_link": true
    },
    "kernelspec": {
      "name": "python3",
      "display_name": "Python 3"
    },
    "language_info": {
      "name": "python"
    }
  },
  "cells": [
    {
      "cell_type": "markdown",
      "metadata": {
        "id": "view-in-github",
        "colab_type": "text"
      },
      "source": [
        "<a href=\"https://colab.research.google.com/github/Alvineka779/TugasDokumentasi/blob/main/Looping%20Perulangan.ipynb\" target=\"_parent\"><img src=\"https://colab.research.google.com/assets/colab-badge.svg\" alt=\"Open In Colab\"/></a>"
      ]
    },
    {
      "cell_type": "markdown",
      "source": [
        "# **1. Looping / Perulangan Menggunakan \"for\"**\n",
        "kita dapat menggunakan suatu cara yang disebut loop atau iterator. Ada dua cara untuk menjalankan perintah tersebut, yaitu dengan for atau while loop.\n",
        "Pada contoh kali ini, kita akan menggunakan metode range. Metode ini yang menentukan rentang loop seberapa banyak perintah harus di ulang. Secara default, titik awalnya adalah 0.\n"
      ],
      "metadata": {
        "id": "qSGGD6rhKkXY"
      }
    },
    {
      "cell_type": "code",
      "source": [
        "for i in range(10):\n",
        "  print(\"Alvin\")\n",
        "\n",
        "for i in range(1,10):\n",
        "  print(\"Alvin\")\n",
        "\n",
        "for i in range(10):\n",
        "  print(\"Alvin\")\n",
        "else:\n",
        "  print(\"Selesai\")\n",
        "\n",
        "for i in range(3):\n",
        "  for j in range(5):\n",
        "    print(\"Alvin Dalam\")\n",
        "  print(\"Alvin Luar\")"
      ],
      "metadata": {
        "id": "VMfiBp5gKuMn"
      },
      "execution_count": null,
      "outputs": []
    },
    {
      "cell_type": "markdown",
      "source": [
        "# **2. Looping / Perulangan Menggunakan \"while\"**\n",
        "Dalam bahasa pemrograman Python, terdapat metode loop atau iterator yang lain, yaitu while loop. Kita pun dapat memberikan hasil yang sama seperti yang telah kita lakukan pada for loop dengan menggunakan while loop."
      ],
      "metadata": {
        "id": "Bf9gNLiaL97Q"
      }
    },
    {
      "cell_type": "code",
      "source": [
        "i=5\n",
        "while i < 10:\n",
        "  print(\"Angka\", i)\n",
        "  i += 1"
      ],
      "metadata": {
        "id": "kND6s1S3MKAj"
      },
      "execution_count": null,
      "outputs": []
    }
  ]
}