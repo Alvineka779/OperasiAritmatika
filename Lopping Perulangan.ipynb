{
  "nbformat": 4,
  "nbformat_minor": 0,
  "metadata": {
    "colab": {
      "provenance": [],
      "authorship_tag": "ABX9TyPy6PWx7DGZ9Sw/0aZ1wASW",
      "include_colab_link": true
    },
    "kernelspec": {
      "name": "python3",
      "display_name": "Python 3"
    },
    "language_info": {
      "name": "python"
    }
  },
  "cells": [
    {
      "cell_type": "markdown",
      "metadata": {
        "id": "view-in-github",
        "colab_type": "text"
      },
      "source": [
        "<a href=\"https://colab.research.google.com/github/Alvineka779/TugasDokumentasi/blob/main/Lopping%20Perulangan.ipynb\" target=\"_parent\"><img src=\"https://colab.research.google.com/assets/colab-badge.svg\" alt=\"Open In Colab\"/></a>"
      ]
    },
    {
      "cell_type": "markdown",
      "source": [
        "# **1. Lopping / Perulangan Menggunakan \"for\"**\n",
        "\"i\" (Sebagai Variabel)"
      ],
      "metadata": {
        "id": "qSGGD6rhKkXY"
      }
    },
    {
      "cell_type": "code",
      "source": [
        "for i in range(10):\n",
        "  print(\"Alvin\")\n",
        "\n",
        "for i in range(1,10):\n",
        "  print(\"Alvin\")\n",
        "\n",
        "for i in range(10):\n",
        "  print(\"Alvin\")\n",
        "else:\n",
        "  print(\"Selesai\")\n",
        "\n",
        "for i in range(3):\n",
        "  for j in range(5):\n",
        "    print(\"Alvin Dalam\")\n",
        "  print(\"Alvin Luar\")"
      ],
      "metadata": {
        "colab": {
          "base_uri": "https://localhost:8080/"
        },
        "id": "VMfiBp5gKuMn",
        "outputId": "2c2ca57a-3a83-4cdd-aab7-af98ce9e220d"
      },
      "execution_count": 5,
      "outputs": [
        {
          "output_type": "stream",
          "name": "stdout",
          "text": [
            "Alvin\n",
            "Alvin\n",
            "Alvin\n",
            "Alvin\n",
            "Alvin\n",
            "Alvin\n",
            "Alvin\n",
            "Alvin\n",
            "Alvin\n",
            "Alvin\n",
            "Alvin\n",
            "Alvin\n",
            "Alvin\n",
            "Alvin\n",
            "Alvin\n",
            "Alvin\n",
            "Alvin\n",
            "Alvin\n",
            "Alvin\n",
            "Alvin\n",
            "Alvin\n",
            "Alvin\n",
            "Alvin\n",
            "Alvin\n",
            "Alvin\n",
            "Alvin\n",
            "Alvin\n",
            "Alvin\n",
            "Alvin\n",
            "Selesai\n",
            "Alvin Dalam\n",
            "Alvin Dalam\n",
            "Alvin Dalam\n",
            "Alvin Dalam\n",
            "Alvin Dalam\n",
            "Alvin Luar\n",
            "Alvin Dalam\n",
            "Alvin Dalam\n",
            "Alvin Dalam\n",
            "Alvin Dalam\n",
            "Alvin Dalam\n",
            "Alvin Luar\n",
            "Alvin Dalam\n",
            "Alvin Dalam\n",
            "Alvin Dalam\n",
            "Alvin Dalam\n",
            "Alvin Dalam\n",
            "Alvin Luar\n"
          ]
        }
      ]
    },
    {
      "cell_type": "markdown",
      "source": [
        "# **2. Lopping / Perulangan Menggunakan \"while\"**\n",
        "'i' (Sebagai Variable):"
      ],
      "metadata": {
        "id": "Bf9gNLiaL97Q"
      }
    },
    {
      "cell_type": "code",
      "source": [
        "i=5\n",
        "while i < 10:\n",
        "  print(\"Angka\", i)\n",
        "  i += 1"
      ],
      "metadata": {
        "colab": {
          "base_uri": "https://localhost:8080/"
        },
        "id": "kND6s1S3MKAj",
        "outputId": "024756b7-b1ba-497b-c4eb-f19ab95d08d4"
      },
      "execution_count": 7,
      "outputs": [
        {
          "output_type": "stream",
          "name": "stdout",
          "text": [
            "Angka 5\n",
            "Angka 6\n",
            "Angka 7\n",
            "Angka 8\n",
            "Angka 9\n"
          ]
        }
      ]
    }
  ]
}